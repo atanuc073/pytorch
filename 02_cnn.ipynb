{
 "cells": [
  {
   "cell_type": "code",
   "execution_count": 16,
   "metadata": {},
   "outputs": [],
   "source": [
    "# Simple CNN\n",
    "import torch\n",
    "from torch import nn\n",
    "import torch.nn.functional as F\n",
    "class CNN(nn.Module):\n",
    "    def __init__(self,input_size=1,num_classes=10):\n",
    "        super(CNN,self).__init__()\n",
    "        self.conv1=nn.Conv2d(in_channels=1,out_channels=16,kernel_size=(3,3),stride=(1,1),padding=(1,1))\n",
    "        self.conv2=nn.Conv2d(in_channels=16,out_channels=32,kernel_size=(3,3),stride=(1,1),padding=(1,1))\n",
    "        self.pool=nn.MaxPool2d(kernel_size=(2,2),stride=(2,2))\n",
    "        self.fc1=nn.Linear(in_features=32*7*7,out_features=num_classes)\n",
    "\n",
    "    def forward(self,x):\n",
    "        x=F.relu(self.conv1(x))\n",
    "        x=self.pool(x)\n",
    "        x=F.relu(self.conv2(x))\n",
    "        x=self.pool(x)\n",
    "        x=x.reshape(x.shape[0],-1)\n",
    "\n",
    "        x=self.fc1(x)\n",
    "\n",
    "        return x\n"
   ]
  },
  {
   "cell_type": "code",
   "execution_count": 17,
   "metadata": {},
   "outputs": [],
   "source": [
    "model=CNN()\n",
    "\n",
    "x=torch.randn(64,1,28,28)"
   ]
  },
  {
   "cell_type": "code",
   "execution_count": 18,
   "metadata": {},
   "outputs": [
    {
     "data": {
      "text/plain": [
       "'cuda'"
      ]
     },
     "execution_count": 18,
     "metadata": {},
     "output_type": "execute_result"
    }
   ],
   "source": [
    "device=\"cuda\" if torch.cuda.is_available() else \"cpu\"\n",
    "device"
   ]
  },
  {
   "cell_type": "code",
   "execution_count": 19,
   "metadata": {},
   "outputs": [],
   "source": [
    "in_channel=1\n",
    "num_classes=10\n",
    "learrning_rate=0.001\n",
    "batch_size=64\n",
    "num_epochs=10"
   ]
  },
  {
   "cell_type": "code",
   "execution_count": 20,
   "metadata": {},
   "outputs": [
    {
     "name": "stdout",
     "output_type": "stream",
     "text": [
      "Files already downloaded\n",
      "Files already downloaded\n"
     ]
    }
   ],
   "source": [
    "# Load data\n",
    "from torchvision import datasets\n",
    "from torch.utils.data import DataLoader\n",
    "from torchvision import transforms\n",
    "from torch.optim import Adam\n",
    "\n",
    "train_dataset=datasets.MNIST(root=\"dataset/\",train=True,transform=transforms.ToTensor(),download=True)\n",
    "train_loader=DataLoader(dataset=train_dataset,batch_size=batch_size,shuffle=True)\n",
    "test_dataset=datasets.MNIST(root=\"datasets/\",train=False,transform=transforms.ToTensor(),download=True)\n",
    "test_dataloader=DataLoader(dataset=test_dataset,batch_size=batch_size,shuffle=True)\n"
   ]
  },
  {
   "cell_type": "markdown",
   "metadata": {},
   "source": [
    "    .. math::\n",
    "        \\ell(x, y) = L = \\{l_1,\\dots,l_N\\}^\\top, \\quad\n",
    "        l_n = - w_{y_n} x_{n,y_n}, \\quad\n",
    "        w_{c} = \\text{weight}[c] \\cdot \\mathbb{1}\\{c \\not= \\text{ignore\\_index}\\},\n",
    "\n",
    "    where :math:`x` is the input, :math:`y` is the target, :math:`w` is the weight, and\n",
    "    :math:`N` is the batch size. If :attr:`reduction` is not ``'none'``\n",
    "    (default ``'mean'``), then"
   ]
  },
  {
   "cell_type": "code",
   "execution_count": 28,
   "metadata": {},
   "outputs": [],
   "source": [
    "def check_accuracy(loader,model):\n",
    "    if loader.dataset.train:\n",
    "        print(\"checking accuracy on training data\")\n",
    "    else:\n",
    "        print(\"Checking accuracy on test data\")\n",
    "    num_correct=0\n",
    "    num_samples=0\n",
    "    model.eval()\n",
    "\n",
    "    with torch.no_grad():\n",
    "        num_correct=0\n",
    "        num_samples=0\n",
    "        model.eval()\n",
    "\n",
    "        with torch.no_grad():\n",
    "            for x,y in loader:\n",
    "                x=x.to(device)\n",
    "                y=y.to(device)\n",
    "                # x=x.reshape(x.shape[0],-1)\n",
    "                scores=model(x)\n",
    "                _,predictions=scores.max(1)\n",
    "                num_correct+=(predictions==y).sum()\n",
    "                num_samples+=predictions.shape[0]\n",
    "            acc= float(num_correct)/float(num_samples)*100\n",
    "            print(f\"Got {num_correct} / {num_samples} with accuracy {float(num_correct)/float(num_samples)*100:.2f}\")\n",
    "            model.train()\n",
    "            return acc"
   ]
  },
  {
   "cell_type": "code",
   "execution_count": 29,
   "metadata": {},
   "outputs": [],
   "source": [
    "from torch import optim\n",
    "device=\"cuda\"\n",
    "model=CNN().to(device)\n",
    "criterion=nn.CrossEntropyLoss()\n",
    "optimizer=optim.Adam(model.parameters(),lr=learrning_rate)"
   ]
  },
  {
   "cell_type": "code",
   "execution_count": 30,
   "metadata": {},
   "outputs": [
    {
     "name": "stdout",
     "output_type": "stream",
     "text": [
      "checking accuracy on training data\n",
      "Got 58691 / 60000 with accuracy 97.82\n",
      "Checking accuracy on test data\n",
      "Got 9782 / 10000 with accuracy 97.82\n",
      "checking accuracy on training data\n",
      "Got 59117 / 60000 with accuracy 98.53\n",
      "Checking accuracy on test data\n",
      "Got 9861 / 10000 with accuracy 98.61\n",
      "checking accuracy on training data\n",
      "Got 59218 / 60000 with accuracy 98.70\n",
      "Checking accuracy on test data\n",
      "Got 9848 / 10000 with accuracy 98.48\n",
      "checking accuracy on training data\n",
      "Got 59260 / 60000 with accuracy 98.77\n",
      "Checking accuracy on test data\n",
      "Got 9836 / 10000 with accuracy 98.36\n",
      "checking accuracy on training data\n",
      "Got 59403 / 60000 with accuracy 99.00\n",
      "Checking accuracy on test data\n",
      "Got 9861 / 10000 with accuracy 98.61\n",
      "checking accuracy on training data\n",
      "Got 59455 / 60000 with accuracy 99.09\n",
      "Checking accuracy on test data\n",
      "Got 9866 / 10000 with accuracy 98.66\n",
      "checking accuracy on training data\n",
      "Got 59523 / 60000 with accuracy 99.20\n",
      "Checking accuracy on test data\n",
      "Got 9873 / 10000 with accuracy 98.73\n",
      "checking accuracy on training data\n",
      "Got 59557 / 60000 with accuracy 99.26\n",
      "Checking accuracy on test data\n",
      "Got 9881 / 10000 with accuracy 98.81\n",
      "checking accuracy on training data\n",
      "Got 59733 / 60000 with accuracy 99.56\n",
      "Checking accuracy on test data\n",
      "Got 9892 / 10000 with accuracy 98.92\n",
      "checking accuracy on training data\n",
      "Got 59703 / 60000 with accuracy 99.50\n",
      "Checking accuracy on test data\n",
      "Got 9896 / 10000 with accuracy 98.96\n"
     ]
    }
   ],
   "source": [
    "# Train Network\n",
    "for epoch in range(num_epochs):\n",
    "    for batch_idx,(data,targets) in enumerate(train_loader):\n",
    "        data=data.to(device)\n",
    "        targets=targets.to(device)\n",
    "        # data=data.reshape(data.shape[0],-1)\n",
    "        scores=model(data)\n",
    "        loss=criterion(scores,targets)\n",
    "        # bacckward\n",
    "        optimizer.zero_grad()\n",
    "        loss.backward()\n",
    "        # gradient descent\n",
    "        optimizer.step()\n",
    "    check_accuracy(train_loader,model)\n",
    "    check_accuracy(test_dataloader,model)\n"
   ]
  },
  {
   "cell_type": "code",
   "execution_count": null,
   "metadata": {},
   "outputs": [],
   "source": []
  }
 ],
 "metadata": {
  "kernelspec": {
   "display_name": "tf",
   "language": "python",
   "name": "python3"
  },
  "language_info": {
   "codemirror_mode": {
    "name": "ipython",
    "version": 3
   },
   "file_extension": ".py",
   "mimetype": "text/x-python",
   "name": "python",
   "nbconvert_exporter": "python",
   "pygments_lexer": "ipython3",
   "version": "3.7.16"
  }
 },
 "nbformat": 4,
 "nbformat_minor": 2
}
