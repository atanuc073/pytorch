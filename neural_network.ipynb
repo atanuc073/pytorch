{
 "cells": [
  {
   "cell_type": "code",
   "execution_count": 4,
   "metadata": {},
   "outputs": [],
   "source": [
    "import torch\n",
    "import torch.nn as nn\n",
    "import torch.optim as optim\n",
    "import torch.nn.functional as F\n",
    "from torch.utils.data import Dataset,DataLoader\n",
    "import torchvision.transforms as transforms\n",
    "import torchvision.datasets as datasets\n"
   ]
  },
  {
   "cell_type": "code",
   "execution_count": 2,
   "metadata": {},
   "outputs": [],
   "source": [
    "class NN(nn.Module):\n",
    "    def __init__(self,input_size,num_classes):\n",
    "        super(NN,self).__init__()\n",
    "        self.fc1=nn.Linear(input_size,64)\n",
    "        self.fc2=nn.Linear(64,128)\n",
    "        self.fc3=nn.Linear(128,num_classes)\n",
    "\n",
    "    def forward(self,x):\n",
    "        x=F.relu(self.fc1(x))\n",
    "        x=F.relu(self.fc2(x))\n",
    "        x=self.fc3(x)\n",
    "        return x\n",
    "    \n",
    "model=NN(784,10)\n",
    "x=torch.randn(64,784)\n"
   ]
  },
  {
   "cell_type": "code",
   "execution_count": 3,
   "metadata": {},
   "outputs": [
    {
     "data": {
      "text/plain": [
       "'cuda'"
      ]
     },
     "execution_count": 3,
     "metadata": {},
     "output_type": "execute_result"
    }
   ],
   "source": [
    "device=\"cuda\" if torch.cuda.is_available() else \"cpu\"\n",
    "device"
   ]
  },
  {
   "cell_type": "code",
   "execution_count": 8,
   "metadata": {},
   "outputs": [],
   "source": [
    "input_size=784\n",
    "num_classes=10\n",
    "learrning_rate=0.001\n",
    "batch_size=64\n",
    "num_epochs=10"
   ]
  },
  {
   "cell_type": "code",
   "execution_count": 7,
   "metadata": {},
   "outputs": [
    {
     "name": "stdout",
     "output_type": "stream",
     "text": [
      "Downloading http://yann.lecun.com/exdb/mnist/train-images-idx3-ubyte.gz\n",
      "Downloading http://yann.lecun.com/exdb/mnist/train-labels-idx1-ubyte.gz\n",
      "Downloading http://yann.lecun.com/exdb/mnist/t10k-images-idx3-ubyte.gz\n",
      "Downloading http://yann.lecun.com/exdb/mnist/t10k-labels-idx1-ubyte.gz\n",
      "Processing\n",
      "Done!\n",
      "Downloading http://yann.lecun.com/exdb/mnist/train-images-idx3-ubyte.gz\n",
      "Downloading http://yann.lecun.com/exdb/mnist/train-labels-idx1-ubyte.gz\n",
      "Downloading http://yann.lecun.com/exdb/mnist/t10k-images-idx3-ubyte.gz\n",
      "Downloading http://yann.lecun.com/exdb/mnist/t10k-labels-idx1-ubyte.gz\n",
      "Processing\n",
      "Done!\n"
     ]
    }
   ],
   "source": [
    "# Load data\n",
    "train_dataset=datasets.MNIST(root=\"dataset/\",train=True,transform=transforms.ToTensor(),download=True)\n",
    "train_loader=DataLoader(dataset=train_dataset,batch_size=batch_size,shuffle=True)\n",
    "test_dataset=datasets.MNIST(root=\"datasets/\",train=False,transform=transforms.ToTensor(),download=True)\n",
    "test_dataloader=DataLoader(dataset=test_dataset,batch_size=batch_size,shuffle=True)\n"
   ]
  },
  {
   "cell_type": "code",
   "execution_count": 9,
   "metadata": {},
   "outputs": [],
   "source": [
    "# Initialize the model\n",
    "model=NN(input_size=input_size,num_classes=num_classes).to(device)"
   ]
  },
  {
   "cell_type": "code",
   "execution_count": 10,
   "metadata": {},
   "outputs": [],
   "source": [
    "criterion=nn.CrossEntropyLoss()\n",
    "optimizer=optim.Adam(model.parameters(),lr=learrning_rate)"
   ]
  },
  {
   "cell_type": "code",
   "execution_count": 17,
   "metadata": {},
   "outputs": [],
   "source": [
    "def check_accuracy(loader,model):\n",
    "    if loader.dataset.train:\n",
    "        print(\"checking accuracy on training data\")\n",
    "    else:\n",
    "        print(\"Checking accuracy on test data\")\n",
    "    num_correct=0\n",
    "    num_samples=0\n",
    "    model.eval()\n",
    "\n",
    "    with torch.no_grad():\n",
    "        num_correct=0\n",
    "        num_samples=0\n",
    "        model.eval()\n",
    "\n",
    "        with torch.no_grad():\n",
    "            for x,y in loader:\n",
    "                x=x.to(device)\n",
    "                y=y.to(device)\n",
    "                x=x.reshape(x.shape[0],-1)\n",
    "                scores=model(x)\n",
    "                _,predictions=scores.max(1)\n",
    "                num_correct+=(predictions==y).sum()\n",
    "                num_samples+=predictions.shape[0]\n",
    "            acc= float(num_correct)/float(num_samples)*100\n",
    "            print(f\"Got {num_correct} / {num_samples} with accuracy {float(num_correct)/float(num_samples)*100:.2f}\")\n",
    "            model.train()\n",
    "            return acc"
   ]
  },
  {
   "cell_type": "code",
   "execution_count": 18,
   "metadata": {},
   "outputs": [
    {
     "name": "stdout",
     "output_type": "stream",
     "text": [
      "checking accuracy on training data\n",
      "Got 58288 / 60000 with accuracy 97.15\n",
      "Checking accuracy on test data\n",
      "Got 9642 / 10000 with accuracy 96.42\n",
      "checking accuracy on training data\n",
      "Got 58685 / 60000 with accuracy 97.81\n",
      "Checking accuracy on test data\n",
      "Got 9703 / 10000 with accuracy 97.03\n",
      "checking accuracy on training data\n",
      "Got 58871 / 60000 with accuracy 98.12\n",
      "Checking accuracy on test data\n",
      "Got 9727 / 10000 with accuracy 97.27\n",
      "checking accuracy on training data\n",
      "Got 59068 / 60000 with accuracy 98.45\n",
      "Checking accuracy on test data\n",
      "Got 9719 / 10000 with accuracy 97.19\n",
      "checking accuracy on training data\n",
      "Got 59298 / 60000 with accuracy 98.83\n",
      "Checking accuracy on test data\n",
      "Got 9754 / 10000 with accuracy 97.54\n",
      "checking accuracy on training data\n",
      "Got 59306 / 60000 with accuracy 98.84\n",
      "Checking accuracy on test data\n",
      "Got 9744 / 10000 with accuracy 97.44\n",
      "checking accuracy on training data\n",
      "Got 59455 / 60000 with accuracy 99.09\n",
      "Checking accuracy on test data\n",
      "Got 9771 / 10000 with accuracy 97.71\n",
      "checking accuracy on training data\n",
      "Got 59566 / 60000 with accuracy 99.28\n",
      "Checking accuracy on test data\n",
      "Got 9755 / 10000 with accuracy 97.55\n",
      "checking accuracy on training data\n",
      "Got 59554 / 60000 with accuracy 99.26\n",
      "Checking accuracy on test data\n",
      "Got 9755 / 10000 with accuracy 97.55\n",
      "checking accuracy on training data\n",
      "Got 59660 / 60000 with accuracy 99.43\n",
      "Checking accuracy on test data\n",
      "Got 9733 / 10000 with accuracy 97.33\n"
     ]
    }
   ],
   "source": [
    "# Train Network\n",
    "for epoch in range(num_epochs):\n",
    "    for batch_idx,(data,targets) in enumerate(train_loader):\n",
    "        data=data.to(device)\n",
    "        targets=targets.to(device)\n",
    "        data=data.reshape(data.shape[0],-1)\n",
    "        scores=model(data)\n",
    "        loss=criterion(scores,targets)\n",
    "        # bacckward\n",
    "        optimizer.zero_grad()\n",
    "        loss.backward()\n",
    "        # gradient descent\n",
    "        optimizer.step()\n",
    "    check_accuracy(train_loader,model)\n",
    "    check_accuracy(test_dataloader,model)\n"
   ]
  },
  {
   "cell_type": "code",
   "execution_count": null,
   "metadata": {},
   "outputs": [],
   "source": [
    "check_accuracy(train_loader,model)\n",
    "check_accuracy(test_dataloader,model)"
   ]
  },
  {
   "cell_type": "code",
   "execution_count": 12,
   "metadata": {},
   "outputs": [
    {
     "name": "stdout",
     "output_type": "stream",
     "text": [
      "torch.Size([64, 784])\n"
     ]
    }
   ],
   "source": [
    "\n"
   ]
  },
  {
   "cell_type": "code",
   "execution_count": null,
   "metadata": {},
   "outputs": [],
   "source": []
  }
 ],
 "metadata": {
  "kernelspec": {
   "display_name": "tf",
   "language": "python",
   "name": "python3"
  },
  "language_info": {
   "codemirror_mode": {
    "name": "ipython",
    "version": 3
   },
   "file_extension": ".py",
   "mimetype": "text/x-python",
   "name": "python",
   "nbconvert_exporter": "python",
   "pygments_lexer": "ipython3",
   "version": "3.7.16"
  }
 },
 "nbformat": 4,
 "nbformat_minor": 2
}
